{
 "cells": [
  {
   "cell_type": "markdown",
   "id": "af397098-377b-45a6-9ce3-0e70a55af6f2",
   "metadata": {},
   "source": [
    "# Data Science Tools and Ecosystem"
   ]
  },
  {
   "cell_type": "markdown",
   "id": "b4193945-0c4f-41d2-a654-0ccd394d8661",
   "metadata": {},
   "source": [
    "**objectives**\n",
    "- List popular languages for Data Science\n",
    "- learn data science tools\n",
    "- learn python arithmetic operations"
   ]
  },
  {
   "cell_type": "markdown",
   "id": "f077a154-6eb1-465b-8746-4c9d95447060",
   "metadata": {},
   "source": [
    "In this notebook, Data Science Tools and Ecosystem are summarized.\n",
    "\n"
   ]
  },
  {
   "cell_type": "markdown",
   "id": "84e80da3-7a4d-4e44-b199-5bb15ea9315b",
   "metadata": {},
   "source": [
    "Some of the popular languages that Data Scientists use are:\n",
    "1. Python\n",
    "2. R\n",
    "3. Java"
   ]
  },
  {
   "attachments": {},
   "cell_type": "markdown",
   "id": "312b508e-5ce6-4b80-9bc5-e57f21f8433f",
   "metadata": {},
   "source": [
    "Some of commonly used data science libraries are:\n",
    "1. Numpy\n",
    "2. Matplotlib\n",
    "3. Pandas"
   ]
  },
  {
   "attachments": {},
   "cell_type": "markdown",
   "id": "07c715c5-302c-421e-afdd-ea3ed5e943f3",
   "metadata": {},
   "source": [
    "|Data Science Tools|\n",
    "|------------------|\n",
    "|Apache Spark      |\n",
    "|Scikit-learn      |\n",
    "|DAX               |"
   ]
  },
  {
   "cell_type": "markdown",
   "id": "056ed9bf-81e1-4e0c-afa9-469a8b6a88f4",
   "metadata": {},
   "source": [
    "### Below are a few examples of evaluating arithmetic expressions in Python"
   ]
  },
  {
   "cell_type": "code",
   "execution_count": 49,
   "id": "f366e14f-fc89-45d8-80a4-f87552357a49",
   "metadata": {},
   "outputs": [
    {
     "data": {
      "text/plain": [
       "17"
      ]
     },
     "execution_count": 49,
     "metadata": {},
     "output_type": "execute_result"
    }
   ],
   "source": [
    "# This a simple arithmetic expression to mutiply then add integers\n",
    "(3*4)+5"
   ]
  },
  {
   "cell_type": "code",
   "execution_count": 51,
   "id": "0df1d4ab-16f0-48b4-81df-900b50f7cbfb",
   "metadata": {},
   "outputs": [
    {
     "data": {
      "text/plain": [
       "3.3333333333333335"
      ]
     },
     "execution_count": 51,
     "metadata": {},
     "output_type": "execute_result"
    }
   ],
   "source": [
    "#This will convert 200 minutes to hours by diving by 60\n",
    "(200/60)"
   ]
  },
  {
   "cell_type": "markdown",
   "id": "0f841bec-b422-4e47-9978-0572adecbe7c",
   "metadata": {},
   "source": [
    "## Author\n",
    "Hassan Mohamed"
   ]
  },
  {
   "cell_type": "code",
   "execution_count": null,
   "id": "f07697aa-e21f-45b9-8b11-985aa20cd4e2",
   "metadata": {},
   "outputs": [],
   "source": []
  }
 ],
 "metadata": {
  "kernelspec": {
   "display_name": "Python 3 (ipykernel)",
   "language": "python",
   "name": "python3"
  },
  "language_info": {
   "codemirror_mode": {
    "name": "ipython",
    "version": 3
   },
   "file_extension": ".py",
   "mimetype": "text/x-python",
   "name": "python",
   "nbconvert_exporter": "python",
   "pygments_lexer": "ipython3",
   "version": "3.12.7"
  }
 },
 "nbformat": 4,
 "nbformat_minor": 5
}
